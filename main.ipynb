{
 "cells": [
  {
   "cell_type": "markdown",
   "metadata": {},
   "source": [
    "***Конвертация JSON2HTML***\n",
    "\n",
    "Выполнил: Юрий Куськов y.kuskov@solarl.ru\n",
    "\n",
    "---"
   ]
  },
  {
   "cell_type": "code",
   "execution_count": 1,
   "metadata": {},
   "outputs": [],
   "source": [
    "import json"
   ]
  },
  {
   "cell_type": "markdown",
   "metadata": {},
   "source": [
    "---\n",
    "\n",
    "**1 задание**\n",
    "Формат: список (параграф:заголовок)"
   ]
  },
  {
   "cell_type": "code",
   "execution_count": 2,
   "metadata": {},
   "outputs": [
    {
     "data": {
      "text/plain": [
       "'<h1>Title#1</h1><p>Hello,World1!</p><h1>Title#2</h1><p>Hello,World2!</p>'"
      ]
     },
     "execution_count": 2,
     "metadata": {},
     "output_type": "execute_result"
    }
   ],
   "source": [
    "f = open('1st/source.json','r')\n",
    "_in = json.loads(f.read())\n",
    "f.close()\n",
    "_out = \"\".join([\"<h1>{}</h1><p>{}</p>\".format(x[\"title\"],x[\"body\"]) for x in _in])\n",
    "_out"
   ]
  },
  {
   "cell_type": "markdown",
   "metadata": {},
   "source": [
    "---\n",
    "\n",
    "**2 задание**\n",
    "В ключ добавлено название тега"
   ]
  },
  {
   "cell_type": "code",
   "execution_count": 3,
   "metadata": {},
   "outputs": [
    {
     "data": {
      "text/plain": [
       "'<h3>Title#1</h3><div>Hello,World1!</div>'"
      ]
     },
     "execution_count": 3,
     "metadata": {},
     "output_type": "execute_result"
    }
   ],
   "source": [
    "f = open('2nd/source.json','r')\n",
    "_in = json.loads(f.read())\n",
    "f.close()\n",
    "_out = \"\"\n",
    "for x in _in:\n",
    "    keys = list(x.keys())\n",
    "    for k in keys:\n",
    "        _out += \"<{0}>{1}</{0}>\".format(k,x[k])\n",
    "_out"
   ]
  },
  {
   "cell_type": "markdown",
   "metadata": {},
   "source": [
    "---\n",
    "\n",
    "**3 задание**\n",
    "Если *list* - то все элементы, которые содержатся - должны быть обернуты в *ul*, а каждый конкретный элемент в списке в тег *li*"
   ]
  },
  {
   "cell_type": "code",
   "execution_count": 4,
   "metadata": {},
   "outputs": [
    {
     "name": "stdout",
     "output_type": "stream",
     "text": [
      "<ul><li><h3>Title#1</h3><div>Hello,World1!</div></li><li><h3>Title#2</h3><div>Hello,World2!</div></li></ul>\n"
     ]
    }
   ],
   "source": [
    "f = open('3rd/source.json','r')\n",
    "_in = json.loads(f.read())\n",
    "f.close()\n",
    "if isinstance(_in,list):\n",
    "    _out = \"<ul>\"\n",
    "    for x in _in:\n",
    "        _out +=\"<li>\"\n",
    "        keys = list(x.keys())\n",
    "        for k in keys:\n",
    "            _out += \"<{0}>{1}</{0}>\".format(k,x[k])\n",
    "        _out +=\"</li>\"\n",
    "    _out += \"</ul>\"\n",
    "    print(_out)\n",
    "else: print(\"object isn't list\")"
   ]
  },
  {
   "cell_type": "markdown",
   "metadata": {},
   "source": [
    "---\n",
    "\n",
    "**4 задание**\n",
    "Теперь список может появиться в любом месте, а элементы могут быть вложены друг в друга"
   ]
  },
  {
   "cell_type": "code",
   "execution_count": 39,
   "metadata": {},
   "outputs": [],
   "source": [
    "def treeHTML(s,mark='no_list'):\n",
    "    if isinstance(s,list):\n",
    "        _out = \"\"\n",
    "        for d in s:\n",
    "            _out += treeHTML(d,mark='list')\n",
    "        return \"<ul>\"+_out+\"</ul>\"\n",
    "    if isinstance(s,dict):\n",
    "        _out = \"\"\n",
    "        keys = list(s.keys())\n",
    "        for k in keys:\n",
    "            if isinstance(s[k],list):\n",
    "                _out += \"<{0}>{1}</{0}>\".format(k,treeHTML(s[k],mark='list'))\n",
    "            else:\n",
    "                _out += \"<{0}>{1}</{0}>\".format(k,s[k])\n",
    "        return \"<li>\"+_out+\"</li>\" if mark=='list' else _out"
   ]
  },
  {
   "cell_type": "code",
   "execution_count": 41,
   "metadata": {},
   "outputs": [
    {
     "data": {
      "text/plain": [
       "'<ul><li><span>Title#1</span><content><ul><li><p>Example1</p><header>header1</header></li></ul></content></li><li><div>div1</div></li></ul>'"
      ]
     },
     "execution_count": 41,
     "metadata": {},
     "output_type": "execute_result"
    }
   ],
   "source": [
    "f = open('4th/source.json','r')\n",
    "_in = json.loads(f.read())\n",
    "f.close()\n",
    "treeHTML(_in)"
   ]
  },
  {
   "cell_type": "markdown",
   "metadata": {},
   "source": [
    "---\n",
    "\n",
    "**5 задание**\n",
    "Верстка поплыла - необхоимо добавлять класс и идентификаторы к тегам, а содержимое не должно рассматриваться как html"
   ]
  },
  {
   "cell_type": "code",
   "execution_count": 42,
   "metadata": {},
   "outputs": [
    {
     "data": {
      "text/plain": [
       "{'p.my-class#my-id': 'hello', 'p.my-class1.my-class2': 'example<a>asd</a>'}"
      ]
     },
     "execution_count": 42,
     "metadata": {},
     "output_type": "execute_result"
    }
   ],
   "source": [
    "f = open('5th/source.json','r')\n",
    "_in = json.loads(f.read())\n",
    "f.close()\n",
    "_in"
   ]
  },
  {
   "cell_type": "code",
   "execution_count": 47,
   "metadata": {},
   "outputs": [
    {
     "data": {
      "text/plain": [
       "['p.my-class#my-id', 'p.my-class1.my-class2']"
      ]
     },
     "execution_count": 47,
     "metadata": {},
     "output_type": "execute_result"
    }
   ],
   "source": [
    "keys = list(_in.keys())\n",
    "keys"
   ]
  },
  {
   "cell_type": "code",
   "execution_count": 78,
   "metadata": {},
   "outputs": [],
   "source": [
    "def getTagClassesId(s):\n",
    "    _tag, _class, _id = None, None, None\n",
    "    n_class, n_id = s.count('.'), s.count('#')\n",
    "    if n_id > 0:\n",
    "        s, _id = s.split('#')\n",
    "    if n_class > 0:\n",
    "        s = s.split('.')\n",
    "        _class = s[1:]\n",
    "        s = s[0]\n",
    "    _tag = s\n",
    "    return _tag, _class, _id"
   ]
  },
  {
   "cell_type": "code",
   "execution_count": 79,
   "metadata": {},
   "outputs": [
    {
     "name": "stdout",
     "output_type": "stream",
     "text": [
      "('p', ['my-class'], 'my-id')\n",
      "('p', ['my-class1', 'my-class2'], None)\n"
     ]
    }
   ],
   "source": [
    "for k in keys:\n",
    "    print(getTagClassesId(k))"
   ]
  },
  {
   "cell_type": "code",
   "execution_count": 46,
   "metadata": {},
   "outputs": [],
   "source": [
    "test_out = '<pid=\"my-id\"class=\"my-class\">hello</p><pclass=\"my-class1my-class2\">example&lt;a&gt;asd&lt;/a&gt;</p>'"
   ]
  },
  {
   "cell_type": "code",
   "execution_count": null,
   "metadata": {},
   "outputs": [],
   "source": []
  }
 ],
 "metadata": {
  "kernelspec": {
   "display_name": "Python 3",
   "language": "python",
   "name": "python3"
  },
  "language_info": {
   "codemirror_mode": {
    "name": "ipython",
    "version": 3
   },
   "file_extension": ".py",
   "mimetype": "text/x-python",
   "name": "python",
   "nbconvert_exporter": "python",
   "pygments_lexer": "ipython3",
   "version": "3.6.5"
  }
 },
 "nbformat": 4,
 "nbformat_minor": 2
}
