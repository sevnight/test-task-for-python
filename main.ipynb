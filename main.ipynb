{
 "cells": [
  {
   "cell_type": "markdown",
   "metadata": {},
   "source": [
    "***Конвертация JSON2HTML***\n",
    "\n",
    "Выполнил: Юрий Куськов y.kuskov@solarl.ru\n",
    "\n",
    "---"
   ]
  },
  {
   "cell_type": "code",
   "execution_count": 18,
   "metadata": {},
   "outputs": [],
   "source": [
    "from json import loads\n",
    "from collections import OrderedDict"
   ]
  },
  {
   "cell_type": "code",
   "execution_count": 19,
   "metadata": {},
   "outputs": [],
   "source": [
    "def read_json(file):\n",
    "    try:\n",
    "        f = open(file,'r')\n",
    "    except IOError as e:\n",
    "        print(\"Не удалось открыть файл\")\n",
    "    else:\n",
    "        with f:\n",
    "            st = f.read()\n",
    "            f.close()\n",
    "            return loads(st, object_pairs_hook=OrderedDict)"
   ]
  },
  {
   "cell_type": "markdown",
   "metadata": {},
   "source": [
    "---\n",
    "\n",
    "**1 задание**\n",
    "Формат: список (параграф:заголовок)"
   ]
  },
  {
   "cell_type": "code",
   "execution_count": 20,
   "metadata": {},
   "outputs": [],
   "source": [
    "def func_1(file):\n",
    "    \"\"\"в параметре file указывается путь к файлу 'folder/file.json'\"\"\"\n",
    "    return \"\".join([\"<h1>{}</h1><p>{}</p>\".format(x[\"title\"],x[\"body\"]) for x in read_json(file)])"
   ]
  },
  {
   "cell_type": "code",
   "execution_count": 21,
   "metadata": {},
   "outputs": [
    {
     "data": {
      "text/plain": [
       "'<h1>Title#1</h1><p>Hello,World1!</p><h1>Title#2</h1><p>Hello,World2!</p>'"
      ]
     },
     "execution_count": 21,
     "metadata": {},
     "output_type": "execute_result"
    }
   ],
   "source": [
    "func_1('1st/source.json')"
   ]
  },
  {
   "cell_type": "markdown",
   "metadata": {},
   "source": [
    "---\n",
    "\n",
    "**2 задание**\n",
    "В ключ добавлено название тега"
   ]
  },
  {
   "cell_type": "code",
   "execution_count": 22,
   "metadata": {},
   "outputs": [],
   "source": [
    "def func_2(file):\n",
    "    \"\"\"в параметре file указывается путь к файлу 'folder/file.json'\"\"\"\n",
    "    _in = read_json(file)\n",
    "    _out = \"\"\n",
    "    for x in _in:                     # цикл по словарям\n",
    "        for k in x:                   # цикл внутри словаря\n",
    "            _out += \"<{0}>{1}</{0}>\".format(k,x[k])\n",
    "    return _out"
   ]
  },
  {
   "cell_type": "code",
   "execution_count": 23,
   "metadata": {},
   "outputs": [
    {
     "data": {
      "text/plain": [
       "'<h3>Title#1</h3><div>Hello,World1!</div>'"
      ]
     },
     "execution_count": 23,
     "metadata": {},
     "output_type": "execute_result"
    }
   ],
   "source": [
    "func_2('2nd/source.json')"
   ]
  },
  {
   "cell_type": "markdown",
   "metadata": {},
   "source": [
    "---\n",
    "\n",
    "**3 задание**\n",
    "Если *list* - то все элементы, которые содержатся - должны быть обернуты в *ul*, а каждый конкретный элемент в списке в тег *li*"
   ]
  },
  {
   "cell_type": "code",
   "execution_count": 24,
   "metadata": {},
   "outputs": [],
   "source": [
    "def func_3(file):\n",
    "    \"\"\"в параметре file указывается путь к файлу 'folder/file.json'\"\"\"\n",
    "    _in = read_json(file)\n",
    "    if isinstance(_in,list):\n",
    "        _out = \"\"\n",
    "        for x in _in:\n",
    "            _out +=\"<li>\"\n",
    "            for k in x:\n",
    "                _out += \"<{0}>{1}</{0}>\".format(k,x[k])\n",
    "            _out +=\"</li>\"\n",
    "        #_out += \"</ul>\"\n",
    "        return \"<ul>\"+_out+\"</ul>\"\n",
    "    else: raise ValueError(\"Объект не является списком\")"
   ]
  },
  {
   "cell_type": "code",
   "execution_count": 25,
   "metadata": {},
   "outputs": [
    {
     "data": {
      "text/plain": [
       "'<ul><li><h3>Title#1</h3><div>Hello,World1!</div></li><li><h3>Title#2</h3><div>Hello,World2!</div></li></ul>'"
      ]
     },
     "execution_count": 25,
     "metadata": {},
     "output_type": "execute_result"
    }
   ],
   "source": [
    "func_3('3rd/source.json') "
   ]
  },
  {
   "cell_type": "markdown",
   "metadata": {},
   "source": [
    "---\n",
    "\n",
    "**4 задание**\n",
    "Теперь список может появиться в любом месте, а элементы могут быть вложены друг в друга"
   ]
  },
  {
   "cell_type": "code",
   "execution_count": 26,
   "metadata": {},
   "outputs": [],
   "source": [
    "def treeHTML(s):  \n",
    "    \"\"\"функция рекурсивного анализа json\"\"\"\n",
    "    if isinstance(s,list):\n",
    "        return \"<ul>\"+\"\".join([\"<li>\"+treeHTML(d)+\"</li>\" for d in s]) +\"</ul>\" \n",
    "    if isinstance(s,dict):\n",
    "        _out = \"\"\n",
    "        for k in s:\n",
    "            if isinstance(s[k],list):\n",
    "                _out += \"<{0}>{1}</{0}>\".format(k,treeHTML(s[k]))\n",
    "            else:\n",
    "                _out += \"<{0}>{1}</{0}>\".format(k,s[k])\n",
    "        return _out"
   ]
  },
  {
   "cell_type": "code",
   "execution_count": 27,
   "metadata": {},
   "outputs": [],
   "source": [
    "def func_4(file):\n",
    "    \"\"\"в параметре file указывается путь к файлу 'folder/file.json'\"\"\"\n",
    "    _in = read_json(file)\n",
    "    return treeHTML(_in)"
   ]
  },
  {
   "cell_type": "code",
   "execution_count": 35,
   "metadata": {},
   "outputs": [
    {
     "data": {
      "text/plain": [
       "'<p>hello1</p>'"
      ]
     },
     "execution_count": 35,
     "metadata": {},
     "output_type": "execute_result"
    }
   ],
   "source": [
    "func_4('4th/source_2.json')"
   ]
  },
  {
   "cell_type": "markdown",
   "metadata": {},
   "source": [
    "---\n",
    "\n",
    "**5 задание**\n",
    "Верстка поплыла - необхоимо добавлять класс и идентификаторы к тегам, а содержимое не должно рассматриваться как html"
   ]
  },
  {
   "cell_type": "code",
   "execution_count": 29,
   "metadata": {},
   "outputs": [],
   "source": [
    "import re\n",
    "\n",
    "def get_tag_classes_id(text: str) -> (str, str, str):\n",
    "    \"\"\"парсинг значения key из dict на (tag,classes,id)\"\"\"\n",
    "    class_ = []\n",
    "    id_ = ''\n",
    "\n",
    "    tag, *items = re.split('[#.]', text)\n",
    "    prefixs = re.findall('[#.]', text)\n",
    "\n",
    "    for prefix, value in zip(prefixs, items):\n",
    "        if prefix == '#':\n",
    "            id_ = value\n",
    "        else:\n",
    "            class_.append(value)\n",
    "\n",
    "    return tag, ' '.join(class_), id_"
   ]
  },
  {
   "cell_type": "code",
   "execution_count": 30,
   "metadata": {},
   "outputs": [],
   "source": [
    "from html import escape   # замена символов на их соответсвующий html-код"
   ]
  },
  {
   "cell_type": "code",
   "execution_count": 31,
   "metadata": {},
   "outputs": [],
   "source": [
    "def newTreeHTML(s):  \n",
    "    \"\"\"функция рекурсивного анализа json\"\"\"\n",
    "    if isinstance(s,list):\n",
    "        return \"<ul>\"+\"\".join([\"<li>\"+newTreeHTML(d)+\"</li>\" for d in s]) +\"</ul>\" \n",
    "    if isinstance(s,dict):\n",
    "        _out = \"\"\n",
    "        for k in s:\n",
    "            _tag, _class, _id = get_tag_classes_id(k)\n",
    "            if isinstance(s[k],list):\n",
    "                if _class != '' and _id !=\"\":\n",
    "                    _out += '<{0} id=\"{2}\" class=\"{1}\">{3}</{0}>'.format(_tag, _class, _id, newTreeHTML(s[k]))\n",
    "                elif _class != '' and _id == \"\":\n",
    "                    _out += '<{0} class=\"{1}\">{2}</{0}>'.format(_tag, _class, newTreeHTML(s[k]))\n",
    "                elif _class == '' and _id != \"\":\n",
    "                    _out += '<{0} id=\"{1}\">{2}</{0}>'.format(_tag, _id, newTreeHTML(s[k]))\n",
    "                else:\n",
    "                    _out += '<{0}>{1}</{0}>'.format(_tag, newTreeHTML(s[k]))      \n",
    "            else:\n",
    "                if _class != '' and _id !=\"\":\n",
    "                    _out += '<{0} id=\"{2}\" class=\"{1}\">{3}</{0}>'.format(_tag, _class, _id, escape(s[k]))\n",
    "                elif _class != '' and _id == \"\":\n",
    "                    _out += '<{0} class=\"{1}\">{2}</{0}>'.format(_tag, _class, escape(s[k]))\n",
    "                elif _class == '' and _id != \"\":\n",
    "                    _out += '<{0} id=\"{1}\">{2}</{0}>'.format(_tag, _id, escape(s[k]))\n",
    "                else:\n",
    "                    _out += '<{0}>{1}</{0}>'.format(_tag, escape(s[k])) \n",
    "        return _out"
   ]
  },
  {
   "cell_type": "code",
   "execution_count": 32,
   "metadata": {},
   "outputs": [],
   "source": [
    "def func_5n(file):\n",
    "    \"\"\"в параметре file указывается путь к файлу 'folder/file.json'\"\"\"\n",
    "    _in = read_json(file)\n",
    "    return newTreeHTML(_in)"
   ]
  },
  {
   "cell_type": "code",
   "execution_count": 40,
   "metadata": {},
   "outputs": [
    {
     "data": {
      "text/plain": [
       "'<p id=\"my-id\" class=\"my-class\">hello</p><p class=\"my-class1 my-class2\"><ul><li><div id=\"my-id3\" class=\"my-clas2s\">hello2</div><div class=\"my-clas5\">hello2</div><div id=\"my-id8\">hello2</div><div>hello2</div></li></ul></p>'"
      ]
     },
     "execution_count": 40,
     "metadata": {},
     "output_type": "execute_result"
    }
   ],
   "source": [
    "func_5n('5th/source2.json') "
   ]
  },
  {
   "cell_type": "markdown",
   "metadata": {},
   "source": [
    "---\n",
    "\n",
    "# тест"
   ]
  },
  {
   "cell_type": "code",
   "execution_count": 41,
   "metadata": {},
   "outputs": [
    {
     "name": "stderr",
     "output_type": "stream",
     "text": [
      "test_func_1 (TestStringMethods.TestStringMethods) ... ok\n",
      "test_func_2 (TestStringMethods.TestStringMethods) ... ok\n",
      "test_func_3 (TestStringMethods.TestStringMethods) ... ok\n",
      "test_func_4 (TestStringMethods.TestStringMethods) ... ok\n",
      "test_func_5 (TestStringMethods.TestStringMethods) ... ok\n",
      "\n",
      "----------------------------------------------------------------------\n",
      "Ran 5 tests in 0.024s\n",
      "\n",
      "OK\n"
     ]
    }
   ],
   "source": [
    "!python -m unittest -v TestStringMethods.py  #см. файл TestStringMethods.py"
   ]
  }
 ],
 "metadata": {
  "kernelspec": {
   "display_name": "Python 3",
   "language": "python",
   "name": "python3"
  },
  "language_info": {
   "codemirror_mode": {
    "name": "ipython",
    "version": 3
   },
   "file_extension": ".py",
   "mimetype": "text/x-python",
   "name": "python",
   "nbconvert_exporter": "python",
   "pygments_lexer": "ipython3",
   "version": "3.6.5"
  }
 },
 "nbformat": 4,
 "nbformat_minor": 2
}
